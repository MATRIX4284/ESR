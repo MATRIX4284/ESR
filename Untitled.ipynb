{
 "cells": [
  {
   "cell_type": "code",
   "execution_count": null,
   "metadata": {},
   "outputs": [],
   "source": [
    "import torch\n",
    "import os\n",
    "import cv2\n",
    "from PIL import Image\n",
    "from model.ESRGAN import ESRGAN\n",
    "from torchvision.utils import save_image\n",
    "import torchvision.transforms.functional as TF\n",
    "from collections import OrderedDict\n",
    "import argparse\n",
    "\n",
    "parser = argparse.ArgumentParser()\n",
    "\n",
    "parser.add_argument('--gan_pth_path', default='parameters/gan.pth')\n",
    "parser.add_argument('--psnr_pth_path', default='parameters/psnr.pth')\n",
    "parser.add_argument('--interp_pth_path', default='parameters/interp.pth')\n",
    "parser.add_argument('--lr_dir')\n",
    "parser.add_argument('--sr_dir')\n",
    "parser.add_argument('--alpha', type=int, default=0.8)\n",
    "\n",
    "args = parser.parse_args()\n",
    "\n",
    "\n",
    "net_PSNR = torch.load(args.psnr_pth_path)\n",
    "net_ESRGAN = torch.load(args.gan_pth_path)\n",
    "net_interp = OrderedDict()\n",
    "\n",
    "for k, v_PSNR in net_PSNR.items():\n",
    "    v_ESRGAN = net_ESRGAN[k]\n",
    "    net_interp[k] = (1 - args.alpha) * v_PSNR + args.alpha * v_ESRGAN\n",
    "\n",
    "if not os.path.exists(args.lr_dir):\n",
    "    raise Exception('[!] No lr path')\n",
    "if not os.path.exists(args.sr_dir):\n",
    "    os.makedirs(args.sr_dir)\n",
    "\n",
    "device = torch.device(\"cuda:0\" if torch.cuda.is_available() else \"cpu\")\n",
    "\n",
    "\n",
    "\n",
    "\n",
    "\n",
    "\n",
    "with torch.no_grad():\n",
    "    net = ESRGAN(3, 3, scale_factor=4)\n",
    "    net.load_state_dict(net_interp)\n",
    "    net = net.to(device).eval()\n",
    "\n",
    "    for image_name in os.listdir(args.lr_dir):\n",
    "        image = Image.open(os.path.join(args.lr_dir, image_name)).convert('RGB')\n",
    "        image = TF.resize(512,512).to_tensor(image).to(device).unsqueeze(dim=0)\n",
    "\n",
    "        image = net(image)\n",
    "\n",
    "        save_image(image,  os.path.join(args.sr_dir, image_name))\n",
    "        print(f'save {image_name}')\n"
   ]
  }
 ],
 "metadata": {
  "kernelspec": {
   "display_name": "Python 3",
   "language": "python",
   "name": "python3"
  },
  "language_info": {
   "codemirror_mode": {
    "name": "ipython",
    "version": 3
   },
   "file_extension": ".py",
   "mimetype": "text/x-python",
   "name": "python",
   "nbconvert_exporter": "python",
   "pygments_lexer": "ipython3",
   "version": "3.6.8"
  }
 },
 "nbformat": 4,
 "nbformat_minor": 2
}
